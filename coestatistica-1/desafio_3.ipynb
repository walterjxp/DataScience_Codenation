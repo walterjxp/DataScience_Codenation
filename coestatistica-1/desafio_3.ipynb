{
 "cells": [
  {
   "cell_type": "code",
   "execution_count": 1,
   "metadata": {},
   "outputs": [],
   "source": [
    "#Importing libraries \n",
    "import pandas as pd\n",
    "import numpy as np\n",
    "from IPython.display import display\n",
    "import json"
   ]
  },
  {
   "cell_type": "code",
   "execution_count": 2,
   "metadata": {},
   "outputs": [],
   "source": [
    "#reading dataset\n",
    "df = pd.read_csv('desafio1.csv')"
   ]
  },
  {
   "cell_type": "code",
   "execution_count": 3,
   "metadata": {},
   "outputs": [
    {
     "data": {
      "text/plain": [
       "(7000, 12)"
      ]
     },
     "execution_count": 3,
     "metadata": {},
     "output_type": "execute_result"
    }
   ],
   "source": [
    "#Dataset Shape\n",
    "df.shape"
   ]
  },
  {
   "cell_type": "code",
   "execution_count": 4,
   "metadata": {},
   "outputs": [
    {
     "data": {
      "text/html": [
       "<div>\n",
       "<style scoped>\n",
       "    .dataframe tbody tr th:only-of-type {\n",
       "        vertical-align: middle;\n",
       "    }\n",
       "\n",
       "    .dataframe tbody tr th {\n",
       "        vertical-align: top;\n",
       "    }\n",
       "\n",
       "    .dataframe thead th {\n",
       "        text-align: right;\n",
       "    }\n",
       "</style>\n",
       "<table border=\"1\" class=\"dataframe\">\n",
       "  <thead>\n",
       "    <tr style=\"text-align: right;\">\n",
       "      <th></th>\n",
       "      <th>RowNumber</th>\n",
       "      <th>id</th>\n",
       "      <th>sobrenome</th>\n",
       "      <th>pontuacao_credito</th>\n",
       "      <th>estado_residencia</th>\n",
       "      <th>genero</th>\n",
       "      <th>idade</th>\n",
       "      <th>nivel_estabilidade</th>\n",
       "      <th>saldo_conta</th>\n",
       "      <th>numero_produtos</th>\n",
       "      <th>possui_cartao_de_credito</th>\n",
       "      <th>membro_ativo</th>\n",
       "    </tr>\n",
       "  </thead>\n",
       "  <tbody>\n",
       "    <tr>\n",
       "      <th>0</th>\n",
       "      <td>1</td>\n",
       "      <td>e7f44fcbd380d4cef7e6c232cc7e37895c3fd197</td>\n",
       "      <td>6d6e0aa1b9b413e442e2fb68df14b4fc3f91de50</td>\n",
       "      <td>619</td>\n",
       "      <td>SC</td>\n",
       "      <td>F</td>\n",
       "      <td>42</td>\n",
       "      <td>2</td>\n",
       "      <td>0.00</td>\n",
       "      <td>1</td>\n",
       "      <td>1</td>\n",
       "      <td>1</td>\n",
       "    </tr>\n",
       "    <tr>\n",
       "      <th>1</th>\n",
       "      <td>2</td>\n",
       "      <td>28dcb083ad90512da16b9430085c2cddb8ca5e12</td>\n",
       "      <td>48e1ad846796fa314f1b4a6702b83343eb5482c5</td>\n",
       "      <td>608</td>\n",
       "      <td>RS</td>\n",
       "      <td>F</td>\n",
       "      <td>41</td>\n",
       "      <td>1</td>\n",
       "      <td>83807.86</td>\n",
       "      <td>1</td>\n",
       "      <td>0</td>\n",
       "      <td>1</td>\n",
       "    </tr>\n",
       "    <tr>\n",
       "      <th>2</th>\n",
       "      <td>3</td>\n",
       "      <td>774bc378f787438c9c7594e536787d07a097a54b</td>\n",
       "      <td>f2b29d5d934de615812b697132e767dea0f1e9e2</td>\n",
       "      <td>502</td>\n",
       "      <td>SC</td>\n",
       "      <td>F</td>\n",
       "      <td>42</td>\n",
       "      <td>8</td>\n",
       "      <td>159660.80</td>\n",
       "      <td>3</td>\n",
       "      <td>1</td>\n",
       "      <td>0</td>\n",
       "    </tr>\n",
       "    <tr>\n",
       "      <th>3</th>\n",
       "      <td>4</td>\n",
       "      <td>043a71326f7096de155e7f0c559dc62b5e4b7239</td>\n",
       "      <td>85d5c9da7cddd8109ad32a6c348fe2bb10bf99f2</td>\n",
       "      <td>699</td>\n",
       "      <td>SC</td>\n",
       "      <td>F</td>\n",
       "      <td>39</td>\n",
       "      <td>1</td>\n",
       "      <td>0.00</td>\n",
       "      <td>2</td>\n",
       "      <td>0</td>\n",
       "      <td>0</td>\n",
       "    </tr>\n",
       "    <tr>\n",
       "      <th>4</th>\n",
       "      <td>5</td>\n",
       "      <td>37b3bb8ca243955fb3605ec7e1c2a4607cdb3b22</td>\n",
       "      <td>ddc89c837a6933639de75f28171057060bd322df</td>\n",
       "      <td>850</td>\n",
       "      <td>RS</td>\n",
       "      <td>F</td>\n",
       "      <td>43</td>\n",
       "      <td>2</td>\n",
       "      <td>125510.82</td>\n",
       "      <td>1</td>\n",
       "      <td>1</td>\n",
       "      <td>1</td>\n",
       "    </tr>\n",
       "    <tr>\n",
       "      <th>...</th>\n",
       "      <td>...</td>\n",
       "      <td>...</td>\n",
       "      <td>...</td>\n",
       "      <td>...</td>\n",
       "      <td>...</td>\n",
       "      <td>...</td>\n",
       "      <td>...</td>\n",
       "      <td>...</td>\n",
       "      <td>...</td>\n",
       "      <td>...</td>\n",
       "      <td>...</td>\n",
       "      <td>...</td>\n",
       "    </tr>\n",
       "    <tr>\n",
       "      <th>6995</th>\n",
       "      <td>6996</td>\n",
       "      <td>3e607c788c09d6e1f99cc50575e471fee41a322a</td>\n",
       "      <td>ef547badb8b0801d06a93155cc052341c749d1c0</td>\n",
       "      <td>633</td>\n",
       "      <td>SC</td>\n",
       "      <td>F</td>\n",
       "      <td>32</td>\n",
       "      <td>1</td>\n",
       "      <td>104001.38</td>\n",
       "      <td>1</td>\n",
       "      <td>0</td>\n",
       "      <td>1</td>\n",
       "    </tr>\n",
       "    <tr>\n",
       "      <th>6996</th>\n",
       "      <td>6997</td>\n",
       "      <td>2afdb40334e1bef3451f3db02b12c255c7a9ff57</td>\n",
       "      <td>e3eb2eea41a60b08392da20a49543d05ac484255</td>\n",
       "      <td>623</td>\n",
       "      <td>RS</td>\n",
       "      <td>F</td>\n",
       "      <td>50</td>\n",
       "      <td>2</td>\n",
       "      <td>87116.71</td>\n",
       "      <td>1</td>\n",
       "      <td>1</td>\n",
       "      <td>1</td>\n",
       "    </tr>\n",
       "    <tr>\n",
       "      <th>6997</th>\n",
       "      <td>6998</td>\n",
       "      <td>6a0589e36c12f95a8d3678b460519ed654fe0a3e</td>\n",
       "      <td>e65e12a7eb4e0b15e6d3afb127ce38c0a5303188</td>\n",
       "      <td>611</td>\n",
       "      <td>SC</td>\n",
       "      <td>M</td>\n",
       "      <td>68</td>\n",
       "      <td>5</td>\n",
       "      <td>82547.11</td>\n",
       "      <td>2</td>\n",
       "      <td>1</td>\n",
       "      <td>1</td>\n",
       "    </tr>\n",
       "    <tr>\n",
       "      <th>6998</th>\n",
       "      <td>6999</td>\n",
       "      <td>c042de909a1fb157765c84c3278d8e6500807367</td>\n",
       "      <td>a52bbf77611eab47a6eff8641a1a9bd01006acbe</td>\n",
       "      <td>666</td>\n",
       "      <td>RS</td>\n",
       "      <td>F</td>\n",
       "      <td>47</td>\n",
       "      <td>5</td>\n",
       "      <td>0.00</td>\n",
       "      <td>1</td>\n",
       "      <td>0</td>\n",
       "      <td>0</td>\n",
       "    </tr>\n",
       "    <tr>\n",
       "      <th>6999</th>\n",
       "      <td>7000</td>\n",
       "      <td>cdce83890ea1d7b64b2caaaea76f499cb5dfe684</td>\n",
       "      <td>2265b3657cc5e97382dc46819e3937c363fe165e</td>\n",
       "      <td>521</td>\n",
       "      <td>SC</td>\n",
       "      <td>M</td>\n",
       "      <td>27</td>\n",
       "      <td>4</td>\n",
       "      <td>121325.84</td>\n",
       "      <td>1</td>\n",
       "      <td>1</td>\n",
       "      <td>1</td>\n",
       "    </tr>\n",
       "  </tbody>\n",
       "</table>\n",
       "<p>7000 rows × 12 columns</p>\n",
       "</div>"
      ],
      "text/plain": [
       "      RowNumber                                        id  \\\n",
       "0             1  e7f44fcbd380d4cef7e6c232cc7e37895c3fd197   \n",
       "1             2  28dcb083ad90512da16b9430085c2cddb8ca5e12   \n",
       "2             3  774bc378f787438c9c7594e536787d07a097a54b   \n",
       "3             4  043a71326f7096de155e7f0c559dc62b5e4b7239   \n",
       "4             5  37b3bb8ca243955fb3605ec7e1c2a4607cdb3b22   \n",
       "...         ...                                       ...   \n",
       "6995       6996  3e607c788c09d6e1f99cc50575e471fee41a322a   \n",
       "6996       6997  2afdb40334e1bef3451f3db02b12c255c7a9ff57   \n",
       "6997       6998  6a0589e36c12f95a8d3678b460519ed654fe0a3e   \n",
       "6998       6999  c042de909a1fb157765c84c3278d8e6500807367   \n",
       "6999       7000  cdce83890ea1d7b64b2caaaea76f499cb5dfe684   \n",
       "\n",
       "                                     sobrenome  pontuacao_credito  \\\n",
       "0     6d6e0aa1b9b413e442e2fb68df14b4fc3f91de50                619   \n",
       "1     48e1ad846796fa314f1b4a6702b83343eb5482c5                608   \n",
       "2     f2b29d5d934de615812b697132e767dea0f1e9e2                502   \n",
       "3     85d5c9da7cddd8109ad32a6c348fe2bb10bf99f2                699   \n",
       "4     ddc89c837a6933639de75f28171057060bd322df                850   \n",
       "...                                        ...                ...   \n",
       "6995  ef547badb8b0801d06a93155cc052341c749d1c0                633   \n",
       "6996  e3eb2eea41a60b08392da20a49543d05ac484255                623   \n",
       "6997  e65e12a7eb4e0b15e6d3afb127ce38c0a5303188                611   \n",
       "6998  a52bbf77611eab47a6eff8641a1a9bd01006acbe                666   \n",
       "6999  2265b3657cc5e97382dc46819e3937c363fe165e                521   \n",
       "\n",
       "     estado_residencia genero  idade  nivel_estabilidade  saldo_conta  \\\n",
       "0                   SC      F     42                   2         0.00   \n",
       "1                   RS      F     41                   1     83807.86   \n",
       "2                   SC      F     42                   8    159660.80   \n",
       "3                   SC      F     39                   1         0.00   \n",
       "4                   RS      F     43                   2    125510.82   \n",
       "...                ...    ...    ...                 ...          ...   \n",
       "6995                SC      F     32                   1    104001.38   \n",
       "6996                RS      F     50                   2     87116.71   \n",
       "6997                SC      M     68                   5     82547.11   \n",
       "6998                RS      F     47                   5         0.00   \n",
       "6999                SC      M     27                   4    121325.84   \n",
       "\n",
       "      numero_produtos  possui_cartao_de_credito  membro_ativo  \n",
       "0                   1                         1             1  \n",
       "1                   1                         0             1  \n",
       "2                   3                         1             0  \n",
       "3                   2                         0             0  \n",
       "4                   1                         1             1  \n",
       "...               ...                       ...           ...  \n",
       "6995                1                         0             1  \n",
       "6996                1                         1             1  \n",
       "6997                2                         1             1  \n",
       "6998                1                         0             0  \n",
       "6999                1                         1             1  \n",
       "\n",
       "[7000 rows x 12 columns]"
      ]
     },
     "metadata": {},
     "output_type": "display_data"
    }
   ],
   "source": [
    "#Head and Tail\n",
    "display(df)"
   ]
  },
  {
   "cell_type": "code",
   "execution_count": 5,
   "metadata": {},
   "outputs": [
    {
     "data": {
      "text/plain": [
       "RowNumber                     int64\n",
       "id                           object\n",
       "sobrenome                    object\n",
       "pontuacao_credito             int64\n",
       "estado_residencia            object\n",
       "genero                       object\n",
       "idade                         int64\n",
       "nivel_estabilidade            int64\n",
       "saldo_conta                 float64\n",
       "numero_produtos               int64\n",
       "possui_cartao_de_credito      int64\n",
       "membro_ativo                  int64\n",
       "dtype: object"
      ]
     },
     "execution_count": 5,
     "metadata": {},
     "output_type": "execute_result"
    }
   ],
   "source": [
    "#Checking columns data types\n",
    "df.dtypes"
   ]
  },
  {
   "cell_type": "code",
   "execution_count": 6,
   "metadata": {},
   "outputs": [
    {
     "data": {
      "text/plain": [
       "Index(['RowNumber', 'id', 'sobrenome', 'pontuacao_credito',\n",
       "       'estado_residencia', 'genero', 'idade', 'nivel_estabilidade',\n",
       "       'saldo_conta', 'numero_produtos', 'possui_cartao_de_credito',\n",
       "       'membro_ativo'],\n",
       "      dtype='object')"
      ]
     },
     "execution_count": 6,
     "metadata": {},
     "output_type": "execute_result"
    }
   ],
   "source": [
    "#Features\n",
    "df.columns"
   ]
  },
  {
   "cell_type": "code",
   "execution_count": 7,
   "metadata": {},
   "outputs": [
    {
     "data": {
      "text/plain": [
       "RowNumber                   0\n",
       "id                          0\n",
       "sobrenome                   0\n",
       "pontuacao_credito           0\n",
       "estado_residencia           0\n",
       "genero                      0\n",
       "idade                       0\n",
       "nivel_estabilidade          0\n",
       "saldo_conta                 0\n",
       "numero_produtos             0\n",
       "possui_cartao_de_credito    0\n",
       "membro_ativo                0\n",
       "dtype: int64"
      ]
     },
     "execution_count": 7,
     "metadata": {},
     "output_type": "execute_result"
    }
   ],
   "source": [
    "#checking for missing data\n",
    "df.isna().sum()"
   ]
  },
  {
   "cell_type": "code",
   "execution_count": 8,
   "metadata": {},
   "outputs": [],
   "source": [
    "#Calculating Statistics\n",
    "states_mean = df.groupby(['estado_residencia']).mean()\n",
    "states_median = df.groupby(['estado_residencia']).median()\n",
    "states_std = df.groupby(['estado_residencia']).std()\n",
    "mode_sc = df[df['estado_residencia']=='SC']['pontuacao_credito'].mode()\n",
    "mode_rs = df[df['estado_residencia']=='RS']['pontuacao_credito'].mode()\n",
    "mode_pr = df[df['estado_residencia']=='PR']['pontuacao_credito'].mode()"
   ]
  },
  {
   "cell_type": "code",
   "execution_count": 9,
   "metadata": {},
   "outputs": [],
   "source": [
    "#Saving answers to Dictionary\n",
    "answers_dict = {\"SC\": {\"moda\": float(mode_sc[0]), \"mediana\": float(states_median.pontuacao_credito['SC']), \"media\": float(states_mean.pontuacao_credito['SC']), \"desvio_padrao\": float(states_std.pontuacao_credito['SC'])}, \n",
    "                \"RS\": {\"moda\": float(mode_rs[0]), \"mediana\": float(states_median.pontuacao_credito['RS']), \"media\": float(states_mean.pontuacao_credito['RS']), \"desvio_padrao\": float(states_std.pontuacao_credito['RS'])}, \n",
    "                \"PR\": {\"moda\": float(mode_pr[0]), \"mediana\": float(states_median.pontuacao_credito['PR']), \"media\": float(states_mean.pontuacao_credito['PR']), \"desvio_padrao\": float(states_std.pontuacao_credito['PR'])}}"
   ]
  },
  {
   "cell_type": "code",
   "execution_count": 10,
   "metadata": {},
   "outputs": [],
   "source": [
    "#Saving answers to json file\n",
    "with open('submission1.json', 'w') as fp:\n",
    "    json.dump(answers_dict, fp)"
   ]
  }
 ],
 "metadata": {
  "kernelspec": {
   "display_name": "Python 3",
   "language": "python",
   "name": "python3"
  },
  "language_info": {
   "codemirror_mode": {
    "name": "ipython",
    "version": 3
   },
   "file_extension": ".py",
   "mimetype": "text/x-python",
   "name": "python",
   "nbconvert_exporter": "python",
   "pygments_lexer": "ipython3",
   "version": "3.7.7"
  }
 },
 "nbformat": 4,
 "nbformat_minor": 4
}
